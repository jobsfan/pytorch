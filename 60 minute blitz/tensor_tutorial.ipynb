{
 "cells": [
  {
   "cell_type": "markdown",
   "source": [
    "官网地址：https://pytorch.org/tutorials/beginner/blitz/tensor_tutorial.html\n",
    "\n",
    "# Pytorch 是什么？\n",
    "它是一个基于python的科学计算库，致力于下面方面：\n",
    "1、在更强悍的GPU上面替代numpy\n",
    "2、一个深度学习的研究平台，提供最大的灵活性和速度\n",
    "\n",
    "## Tensors张量\n",
    "所谓tensor和numpy的ndarray非常相似，能用于在GPU上面加速运算。"
   ],
   "metadata": {
    "collapsed": false
   }
  },
  {
   "cell_type": "code",
   "execution_count": null,
   "outputs": [],
   "source": [
    "from __future__ import print_function  # 在开头加上from __future__ import print_function这句之后，即使在python2.X，使用print就得像python3.X那样加括号使用。python2.X中print不需要括号，而在python3.X中则需要。\n",
    "import torch"
   ],
   "metadata": {
    "collapsed": false,
    "pycharm": {
     "name": "#%%\n"
    }
   }
  },
  {
   "cell_type": "markdown",
   "source": [
    "注意\n",
    "一个违背初始化的矩阵是不被鼓励提倡的，但不包含用在使用它之前用已知的值定义的这种情况。\n",
    "当一个未初始化的矩阵被创建后，不论设置值被分配内存的时候，就是它被初始化值的时候。\n"
   ],
   "metadata": {
    "collapsed": false
   }
  }
 ],
 "metadata": {
  "kernelspec": {
   "display_name": "Python 3",
   "language": "python",
   "name": "python3"
  },
  "language_info": {
   "codemirror_mode": {
    "name": "ipython",
    "version": 2
   },
   "file_extension": ".py",
   "mimetype": "text/x-python",
   "name": "python",
   "nbconvert_exporter": "python",
   "pygments_lexer": "ipython2",
   "version": "2.7.6"
  },
  "pycharm": {
   "stem_cell": {
    "cell_type": "raw",
    "source": [],
    "metadata": {
     "collapsed": false
    }
   }
  }
 },
 "nbformat": 4,
 "nbformat_minor": 0
}