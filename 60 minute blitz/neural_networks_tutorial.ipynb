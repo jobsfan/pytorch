{
 "cells": [
  {
   "cell_type": "markdown",
   "source": [
    "# 神经网络  \n",
    "\n",
    "神经网络可以使用torch.nn包来构建。\n",
    "\n",
    "现在你对autograd自动求导有一些认识了，nn是构建在autograd之上的用来定义模型的使之呈现多样化。nn.Module包含一些层，forward(input)方法，返回一个output。\n",
    "\n",
    "例子，一个图片分类器的网络\n",
    "\n",
    "convnet卷积网络？\n",
    "\n",
    "上图是一个简单的feed-forward前馈网络。它接受输入参数，给几个层一层层的feed数据，最后获得输出。\n",
    "\n",
    "神经网络一个经典的训练过程是这样的：  \n",
    "- 定义一个拥有一些可学习的参数(或者叫权重)的神经网络   \n",
    "- 用输入数据集去迭代它\n",
    "- 通过网络去处理输入数据  \n",
    "- 计算损失（计算输出与正确值之间的差距）  \n",
    "- 把梯度反向传播到网络的各参数中  \n",
    "- 更新网络的权重，一般简单的使用规则: weight = weight - learning_rate * gradient\n",
    "\n",
    "## 定义网络  "
   ],
   "metadata": {
    "collapsed": false
   }
  },
  {
   "cell_type": "code",
   "execution_count": 1,
   "outputs": [
    {
     "name": "stdout",
     "text": [
      "Net(\n",
      "  (conv1): Conv2d(1, 6, kernel_size=(3, 3), stride=(1, 1))\n",
      "  (conv2): Conv2d(6, 16, kernel_size=(3, 3), stride=(1, 1))\n",
      "  (fc1): Linear(in_features=576, out_features=120, bias=True)\n",
      "  (fc2): Linear(in_features=120, out_features=84, bias=True)\n",
      "  (fc3): Linear(in_features=84, out_features=10, bias=True)\n",
      ")\n"
     ],
     "output_type": "stream"
    }
   ],
   "source": [
    "import torch\n",
    "import torch.nn as nn\n",
    "import torch.nn.functional as F\n",
    "\n",
    "class Net(nn.Module):\n",
    "    \n",
    "    def __init__(self):\n",
    "        super(Net,self).__init__()\n",
    "        # 1 是输入的图片的通道，非RGB彩色， 6 输出通道是6(大概是6个卷积核吧)，3x3的卷积核\n",
    "        self.conv1 = nn.Conv2d(1,6,3)\n",
    "        self.conv2 = nn.Conv2d(6,16,3)\n",
    "        # 仿射操作: y = Wx + b\n",
    "        self.fc1 = nn.Linear(16*6*6,120)  # 6*6 来自于图片的维度\n",
    "        self.fc2 = nn.Linear(120,84)\n",
    "        self.fc3 = nn.Linear(84,10)\n",
    "        \n",
    "        \n",
    "    def forward(self,x):\n",
    "        # 通过一个(2,2)的窗口在做最大池\n",
    "        x = F.max_pool2d(F.relu(self.conv1(x)),(2,2))\n",
    "        # 如果池化窗口是一个方块，那么你只需要填一个数字就行了，不需要像上面那样写个tuple\n",
    "        x = F.max_pool2d(F.relu(self.conv2(x)),2)\n",
    "        x = x.view(-1,self.num_flat_features(x))\n",
    "        x = F.relu(self.fc1(x))\n",
    "        x = F.relu(self.fc2(x))\n",
    "        x = self.fc3(x)\n",
    "        return x\n",
    "    \n",
    "    \n",
    "    def num_flat_features(self,x):\n",
    "        size = x.size()[1:]  # 除了batch批维度之外的所有维度\n",
    "        num_features = 1\n",
    "        for s in size:\n",
    "            num_features *= s\n",
    "        return num_features\n",
    "    \n",
    "    \n",
    "net = Net()\n",
    "print(net)"
   ],
   "metadata": {
    "collapsed": false,
    "pycharm": {
     "name": "#%%\n",
     "is_executing": false
    }
   }
  },
  {
   "cell_type": "markdown",
   "source": [
    "看上面，你必须定义一个forward函数，这个backward函数（就是梯度被计算的地方）是自动被定义的，不需要你自己定义，你可以用它来autograd自动求导。你可以在forward方法里面使用任何的Tensor操作。\n",
    "\n",
    "我们可以通过net.parameters()返回来查看一个模型的可学习的参数。\n",
    "\n"
   ],
   "metadata": {
    "collapsed": false
   }
  },
  {
   "cell_type": "code",
   "execution_count": 2,
   "outputs": [
    {
     "name": "stdout",
     "text": [
      "10\n",
      "torch.Size([6, 1, 3, 3])\n"
     ],
     "output_type": "stream"
    }
   ],
   "source": [
    "params = list(net.parameters())\n",
    "print(len(params))\n",
    "print(params[0].size())  # conv1的weight"
   ],
   "metadata": {
    "collapsed": false,
    "pycharm": {
     "name": "#%%\n",
     "is_executing": false
    }
   }
  },
  {
   "cell_type": "markdown",
   "source": [
    "我们先试试一个32x32的随机输入。\n",
    "请注意：这个LeNet的输入是32x32的。我们将用这个网络来搞这个MNIST数据集，先把图片从数据集resize到32x32"
   ],
   "metadata": {
    "collapsed": false
   }
  },
  {
   "cell_type": "code",
   "execution_count": 3,
   "outputs": [
    {
     "name": "stdout",
     "text": [
      "tensor([[-0.0835, -0.0509, -0.1084,  0.0457, -0.1147,  0.0599, -0.0718, -0.0231,\n",
      "         -0.1141,  0.0168]], grad_fn=<AddmmBackward>)\n"
     ],
     "output_type": "stream"
    }
   ],
   "source": [
    "input = torch.randn(1,1,32,32)\n",
    "out = net(input)\n",
    "print(out)"
   ],
   "metadata": {
    "collapsed": false,
    "pycharm": {
     "name": "#%%\n",
     "is_executing": false
    }
   }
  },
  {
   "cell_type": "markdown",
   "source": [
    "所有参数的梯度缓冲清零，然后随机梯度反向传播："
   ],
   "metadata": {
    "collapsed": false
   }
  },
  {
   "cell_type": "code",
   "execution_count": 4,
   "outputs": [],
   "source": [
    "net.zero_grad()\n",
    "out.backward(torch.randn(1,10))"
   ],
   "metadata": {
    "collapsed": false,
    "pycharm": {
     "name": "#%%\n",
     "is_executing": false
    }
   }
  },
  {
   "cell_type": "markdown",
   "source": [
    "请注意：\n",
    "torch.nn仅仅提供mini-patches，按批次处理。整个的torch.nn包仅仅支持mini-batch方式的样本输入，也就是说不能输入单个样本。\n",
    "举个例子，nn.Conv2d需要一个4D的Tensor，nSamples x nChannels x Height x Width\n",
    "如果你要用单个的样本，你需要使用input.unsqueeze(0)来增加维度，增加一个批次的维度。\n",
    "\n",
    "在进一步处理之前，让我们回顾一下我们学过的class。\n",
    "\n",
    "回顾：  \n",
    "- torch.Tensor 一个支持类似backward()之类自动求导操作的多维数组。也包含关于Tensor的梯度。\n",
    "- nn.Module 神经网络模块。封装各个参数的一种方便的方式，方便移动到GPU，导出导出等。\n",
    "- nn.Parameter 也是一种Tensor，能在设置模型属性的时候自动作为参数注册。\n",
    "- autograd.Function 包含实现自动求导操作的向前何向后的定义。每个Tensor的操作都会创建至少一个的Function节点。和那些创建Tensor的函数相连，形成它自己的历史。\n",
    "\n",
    "到此时此刻，我们已经涵盖了下面这些：\n",
    "- 定义一个神经网络\n",
    "- 处理输入并且调用了backward\n",
    "\n",
    "还剩下：\n",
    "- 计算损失\n",
    "- 更新网络的权重\n",
    "\n",
    "## 损失函数  \n",
    "损失函数接收(output,target)对作为输入，计算出一个数值用来评估输出与目标之间的距离。\n",
    "\n",
    "在nn包中有多种不同的损失函数。例如nn.MSELoss就是一个简单的损失函数，它用来计算输出和目标值之间的均方误差。"
   ],
   "metadata": {
    "collapsed": false
   }
  },
  {
   "cell_type": "code",
   "execution_count": 5,
   "outputs": [
    {
     "name": "stdout",
     "text": [
      "tensor(1.8911, grad_fn=<MseLossBackward>)\n"
     ],
     "output_type": "stream"
    }
   ],
   "source": [
    "output = net(input)\n",
    "target = torch.randn(10)  # 假象的目标值\n",
    "target = target.view(1,-1)  # 让它的shape和输出一样\n",
    "criterion = nn.MSELoss()\n",
    "\n",
    "loss = criterion(output,target)\n",
    "print(loss)"
   ],
   "metadata": {
    "collapsed": false,
    "pycharm": {
     "name": "#%%\n",
     "is_executing": false
    }
   }
  },
  {
   "cell_type": "markdown",
   "source": [
    "现在如果你在向后的方向，通过使用它的.grad_fn属性追一下loss，你就能看到一个类似这样的计算图:\n",
    "input -> conv2d -> relu -> maxpool2d -> conv2d -> relu -> maxpool2d\n",
    "      -> view -> linear -> relu -> linear -> relu -> linear\n",
    "      -> MSELoss\n",
    "      -> loss\n",
    "      \n"
   ],
   "metadata": {
    "collapsed": false
   }
  }
 ],
 "metadata": {
  "kernelspec": {
   "display_name": "Python 3",
   "language": "python",
   "name": "python3"
  },
  "language_info": {
   "codemirror_mode": {
    "name": "ipython",
    "version": 2
   },
   "file_extension": ".py",
   "mimetype": "text/x-python",
   "name": "python",
   "nbconvert_exporter": "python",
   "pygments_lexer": "ipython2",
   "version": "2.7.6"
  },
  "pycharm": {
   "stem_cell": {
    "cell_type": "raw",
    "source": [],
    "metadata": {
     "collapsed": false
    }
   }
  }
 },
 "nbformat": 4,
 "nbformat_minor": 0
}